{
 "cells": [
  {
   "cell_type": "code",
   "execution_count": 4,
   "metadata": {},
   "outputs": [
    {
     "name": "stdout",
     "output_type": "stream",
     "text": [
      "ETHUSDT: 1634.35000000\n",
      "BTCUSDT: 22726.52000000\n",
      "SOLUSDT: 22.82000000\n",
      "BNBUSDT: 322.10000000\n"
     ]
    }
   ],
   "source": [
    "import requests\n",
    "\n",
    "# Define the endpoint URL\n",
    "endpoint = \"https://api.binance.com/api/v3/ticker/price\"\n",
    "\n",
    "# Define the symbols for ETH and BTC\n",
    "symbols = [\"ETHUSDT\", \"BTCUSDT\", \"SOLUSDT\", \"BNBUSDT\"]\n",
    "\n",
    "# Loop over the symbols and make a GET request to the endpoint for each one\n",
    "for symbol in symbols:\n",
    "    response = requests.get(f\"{endpoint}?symbol={symbol}\")\n",
    "    \n",
    "    # Check if the request was successful\n",
    "    if response.status_code == 200:\n",
    "        # Parse the JSON response\n",
    "        data = response.json()\n",
    "        \n",
    "        # Print the symbol and price\n",
    "        print(f\"{symbol}: {data['price']}\")\n",
    "    else:\n",
    "        # Print an error message\n",
    "        print(f\"Failed to retrieve data for {symbol}\")"
   ]
  },
  {
   "cell_type": "code",
   "execution_count": 9,
   "metadata": {},
   "outputs": [
    {
     "name": "stdout",
     "output_type": "stream",
     "text": [
      "ETHUSDT: highest gain = 483.27999999999975, highest loss = -364.03000000000065\n",
      "BTCUSDT: highest gain = 5233.840000000004, highest loss = -5460.919999999998\n",
      "SOLUSDT: highest gain = 23.890000000000015, highest loss = -22.560000000000002\n",
      "BNBUSDT: highest gain = 60.099999999999966, highest loss = -49.10000000000002\n"
     ]
    }
   ],
   "source": [
    "import requests\n",
    "\n",
    "# Define the endpoint URL\n",
    "endpoint = \"https://api.binance.com/api/v3/klines\"\n",
    "\n",
    "# Define the symbols for ETH and BTC\n",
    "symbols = [\"ETHUSDT\", \"BTCUSDT\", \"SOLUSDT\", \"BNBUSDT\"]\n",
    "\n",
    "# Define the interval (1 day in minutes)\n",
    "interval = 1440\n",
    "\n",
    "# Define the number of candles to retrieve\n",
    "limit = 500\n",
    "\n",
    "# Loop over the symbols and make a GET request to the endpoint for each one\n",
    "for symbol in symbols:\n",
    "    response = requests.get(f\"{endpoint}?symbol={symbol}&interval=1d&limit={limit}\")\n",
    "    \n",
    "    # Check if the request was successful\n",
    "    if response.status_code == 200:\n",
    "        # Parse the JSON response\n",
    "        data = response.json()\n",
    "        \n",
    "        # Convert the response data to a list of tuples\n",
    "        candles = [(float(candle[1]), float(candle[4])) for candle in data]\n",
    "        \n",
    "        # Find the highest gain and loss\n",
    "        highest_gain = max([high - low for (high, low) in candles])\n",
    "        highest_loss = min([high - low for (high, low) in candles])\n",
    "        \n",
    "        # Print the symbol, highest gain, and highest loss\n",
    "        print(f\"{symbol}: highest gain = {highest_gain}, highest loss = {highest_loss}\")\n",
    "    else:\n",
    "        # Print an error message\n",
    "        print(f\"Failed to retrieve data for {symbol}\")"
   ]
  },
  {
   "cell_type": "code",
   "execution_count": 10,
   "metadata": {},
   "outputs": [
    {
     "name": "stdout",
     "output_type": "stream",
     "text": [
      "ETHUSDT: highest point reached = 1714.68, lowest point reached = 1190.57, biggest gain = 150.83999999999992, biggest loss = 9.789999999999964\n",
      "BTCUSDT: highest point reached = 24255.0, lowest point reached = 16499.01, biggest gain = 1894.6500000000015, biggest loss = 73.90999999999985\n",
      "SOLUSDT: highest point reached = 26.8, lowest point reached = 9.69, biggest gain = 6.550000000000001, biggest loss = 0.40000000000000036\n",
      "BNBUSDT: highest point reached = 337.8, lowest point reached = 240.7, biggest gain = 24.30000000000001, biggest loss = 2.5999999999999943\n"
     ]
    }
   ],
   "source": [
    "import requests\n",
    "import datetime\n",
    "\n",
    "# Define the endpoint URL\n",
    "endpoint = \"https://api.binance.com/api/v3/klines\"\n",
    "\n",
    "# Define the symbols for ETH and BTC\n",
    "symbols = [\"ETHUSDT\", \"BTCUSDT\", \"SOLUSDT\", \"BNBUSDT\"]\n",
    "\n",
    "# Define the interval (1 day in minutes)\n",
    "interval = 1440\n",
    "\n",
    "# Define the start and end dates for the period of time\n",
    "start_date = datetime.datetime(2023, 1, 1)\n",
    "end_date = datetime.datetime(2023, 2, 9)\n",
    "\n",
    "# Convert the start and end dates to Unix timestamps\n",
    "start_timestamp = int(start_date.timestamp() * 1000)\n",
    "end_timestamp = int(end_date.timestamp() * 1000)\n",
    "\n",
    "# Loop over the symbols and make a GET request to the endpoint for each one\n",
    "for symbol in symbols:\n",
    "    response = requests.get(f\"{endpoint}?symbol={symbol}&interval=1d&startTime={start_timestamp}&endTime={end_timestamp}\")\n",
    "    \n",
    "    # Check if the request was successful\n",
    "    if response.status_code == 200:\n",
    "        # Parse the JSON response\n",
    "        data = response.json()\n",
    "        \n",
    "        # Convert the response data to a list of tuples\n",
    "        candles = [(float(candle[1]), float(candle[2]), float(candle[3]), float(candle[4])) for candle in data]\n",
    "        \n",
    "        # Calculate the biggest gain and loss\n",
    "        biggest_gain = max([high - low for (open, high, low, close) in candles])\n",
    "        biggest_loss = min([high - low for (open, high, low, close) in candles])\n",
    "        \n",
    "        # Calculate the highest point reached and lowest point reached\n",
    "        highest_point_reached = max([high for (open, high, low, close) in candles])\n",
    "        lowest_point_reached = min([low for (open, high, low, close) in candles])\n",
    "        \n",
    "        # Print the symbol, highest point reached, lowest point reached, biggest gain, and biggest loss\n",
    "        print(f\"{symbol}: highest point reached = {highest_point_reached}, lowest point reached = {lowest_point_reached}, biggest gain = {biggest_gain}, biggest loss = {biggest_loss}\")"
   ]
  },
  {
   "cell_type": "code",
   "execution_count": null,
   "metadata": {},
   "outputs": [],
   "source": []
  }
 ],
 "metadata": {
  "colab": {
   "provenance": []
  },
  "kernelspec": {
   "display_name": "Python 3 (ipykernel)",
   "language": "python",
   "name": "python3"
  },
  "language_info": {
   "codemirror_mode": {
    "name": "ipython",
    "version": 3
   },
   "file_extension": ".py",
   "mimetype": "text/x-python",
   "name": "python",
   "nbconvert_exporter": "python",
   "pygments_lexer": "ipython3",
   "version": "3.12.3"
  }
 },
 "nbformat": 4,
 "nbformat_minor": 4
}
